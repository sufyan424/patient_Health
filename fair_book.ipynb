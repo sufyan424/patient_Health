{
 "cells": [
  {
   "cell_type": "markdown",
   "id": "70fc946f",
   "metadata": {},
   "source": [
    "# Model Training for Disease Risk Prediction\n",
    "\n",
    "## **Sufyan Ahmad**\n",
    "\n",
    "### **FAIR Dataset with DBRepo**\n",
    "\n",
    "In this project, we aim to develop a machine learning model to predict disease risk based on a set of clinical and lifestyle features. The model is trained using a dataset that includes variables such as age, blood pressure, cholesterol levels, BMI, glucose levels, smoking habits, and exercise hours. The goal is to accurately classify individuals into high-risk and low-risk categories for disease, based on these factors. This process involves data preprocessing, feature selection, model training, and evaluation to ensure robust performance."
   ]
  },
  {
   "cell_type": "markdown",
   "id": "849cf307",
   "metadata": {},
   "source": [
    "### **1. Installing the required packages**"
   ]
  },
  {
   "cell_type": "code",
   "execution_count": 1,
   "id": "e67f35dd",
   "metadata": {},
   "outputs": [
    {
     "name": "stdout",
     "output_type": "stream",
     "text": [
      "Requirement already satisfied: dbrepo==1.7.3 in c:\\python311\\lib\\site-packages (1.7.3)\n",
      "Requirement already satisfied: requests>=2.31 in c:\\python311\\lib\\site-packages (from dbrepo==1.7.3) (2.32.3)\n",
      "Requirement already satisfied: pika in c:\\python311\\lib\\site-packages (from dbrepo==1.7.3) (1.3.2)\n",
      "Requirement already satisfied: pydantic in c:\\python311\\lib\\site-packages (from dbrepo==1.7.3) (2.11.3)\n",
      "Requirement already satisfied: tuspy in c:\\python311\\lib\\site-packages (from dbrepo==1.7.3) (1.1.0)\n",
      "Requirement already satisfied: pandas in c:\\python311\\lib\\site-packages (from dbrepo==1.7.3) (1.5.0)\n",
      "Requirement already satisfied: charset-normalizer<4,>=2 in c:\\python311\\lib\\site-packages (from requests>=2.31->dbrepo==1.7.3) (3.3.2)\n",
      "Requirement already satisfied: idna<4,>=2.5 in c:\\python311\\lib\\site-packages (from requests>=2.31->dbrepo==1.7.3) (3.7)\n",
      "Requirement already satisfied: urllib3<3,>=1.21.1 in c:\\python311\\lib\\site-packages (from requests>=2.31->dbrepo==1.7.3) (2.2.2)\n",
      "Requirement already satisfied: certifi>=2017.4.17 in c:\\python311\\lib\\site-packages (from requests>=2.31->dbrepo==1.7.3) (2024.7.4)\n",
      "Requirement already satisfied: python-dateutil>=2.8.1 in c:\\users\\umair\\appdata\\roaming\\python\\python311\\site-packages (from pandas->dbrepo==1.7.3) (2.9.0.post0)\n",
      "Requirement already satisfied: pytz>=2020.1 in c:\\python311\\lib\\site-packages (from pandas->dbrepo==1.7.3) (2024.1)\n",
      "Requirement already satisfied: numpy>=1.21.0 in c:\\python311\\lib\\site-packages (from pandas->dbrepo==1.7.3) (1.26.4)\n",
      "Requirement already satisfied: annotated-types>=0.6.0 in c:\\python311\\lib\\site-packages (from pydantic->dbrepo==1.7.3) (0.7.0)\n",
      "Requirement already satisfied: pydantic-core==2.33.1 in c:\\python311\\lib\\site-packages (from pydantic->dbrepo==1.7.3) (2.33.1)\n",
      "Requirement already satisfied: typing-extensions>=4.12.2 in c:\\python311\\lib\\site-packages (from pydantic->dbrepo==1.7.3) (4.13.2)\n",
      "Requirement already satisfied: typing-inspection>=0.4.0 in c:\\python311\\lib\\site-packages (from pydantic->dbrepo==1.7.3) (0.4.0)\n",
      "Requirement already satisfied: tinydb>=3.5.0 in c:\\python311\\lib\\site-packages (from tuspy->dbrepo==1.7.3) (4.8.2)\n",
      "Requirement already satisfied: aiohttp>=3.6.2 in c:\\python311\\lib\\site-packages (from tuspy->dbrepo==1.7.3) (3.11.16)\n",
      "Requirement already satisfied: aiohappyeyeballs>=2.3.0 in c:\\python311\\lib\\site-packages (from aiohttp>=3.6.2->tuspy->dbrepo==1.7.3) (2.6.1)\n",
      "Requirement already satisfied: aiosignal>=1.1.2 in c:\\python311\\lib\\site-packages (from aiohttp>=3.6.2->tuspy->dbrepo==1.7.3) (1.3.2)\n",
      "Requirement already satisfied: attrs>=17.3.0 in c:\\python311\\lib\\site-packages (from aiohttp>=3.6.2->tuspy->dbrepo==1.7.3) (23.2.0)\n",
      "Requirement already satisfied: frozenlist>=1.1.1 in c:\\python311\\lib\\site-packages (from aiohttp>=3.6.2->tuspy->dbrepo==1.7.3) (1.5.0)\n",
      "Requirement already satisfied: multidict<7.0,>=4.5 in c:\\python311\\lib\\site-packages (from aiohttp>=3.6.2->tuspy->dbrepo==1.7.3) (6.4.3)\n",
      "Requirement already satisfied: propcache>=0.2.0 in c:\\python311\\lib\\site-packages (from aiohttp>=3.6.2->tuspy->dbrepo==1.7.3) (0.3.1)\n",
      "Requirement already satisfied: yarl<2.0,>=1.17.0 in c:\\python311\\lib\\site-packages (from aiohttp>=3.6.2->tuspy->dbrepo==1.7.3) (1.19.0)\n",
      "Requirement already satisfied: six>=1.5 in c:\\users\\umair\\appdata\\roaming\\python\\python311\\site-packages (from python-dateutil>=2.8.1->pandas->dbrepo==1.7.3) (1.16.0)\n",
      "Note: you may need to restart the kernel to use updated packages.\n"
     ]
    },
    {
     "name": "stderr",
     "output_type": "stream",
     "text": [
      "DEPRECATION: Loading egg at c:\\python311\\lib\\site-packages\\vboxapi-1.0-py3.11.egg is deprecated. pip 24.3 will enforce this behaviour change. A possible replacement is to use pip for package installation.. Discussion can be found at https://github.com/pypa/pip/issues/12330\n",
      "\n",
      "[notice] A new release of pip is available: 24.0 -> 25.0.1\n",
      "[notice] To update, run: python.exe -m pip install --upgrade pip\n"
     ]
    },
    {
     "name": "stdout",
     "output_type": "stream",
     "text": [
      "Requirement already satisfied: pandas in c:\\python311\\lib\\site-packages (1.5.0)\n",
      "Requirement already satisfied: python-dateutil>=2.8.1 in c:\\users\\umair\\appdata\\roaming\\python\\python311\\site-packages (from pandas) (2.9.0.post0)\n",
      "Requirement already satisfied: pytz>=2020.1 in c:\\python311\\lib\\site-packages (from pandas) (2024.1)\n",
      "Requirement already satisfied: numpy>=1.21.0 in c:\\python311\\lib\\site-packages (from pandas) (1.26.4)\n",
      "Requirement already satisfied: six>=1.5 in c:\\users\\umair\\appdata\\roaming\\python\\python311\\site-packages (from python-dateutil>=2.8.1->pandas) (1.16.0)\n",
      "Note: you may need to restart the kernel to use updated packages.\n"
     ]
    },
    {
     "name": "stderr",
     "output_type": "stream",
     "text": [
      "DEPRECATION: Loading egg at c:\\python311\\lib\\site-packages\\vboxapi-1.0-py3.11.egg is deprecated. pip 24.3 will enforce this behaviour change. A possible replacement is to use pip for package installation.. Discussion can be found at https://github.com/pypa/pip/issues/12330\n",
      "\n",
      "[notice] A new release of pip is available: 24.0 -> 25.0.1\n",
      "[notice] To update, run: python.exe -m pip install --upgrade pip\n"
     ]
    }
   ],
   "source": [
    "# Install necessary packages\n",
    "%pip install dbrepo==1.7.3\n",
    "%pip install pandas"
   ]
  },
  {
   "cell_type": "markdown",
   "id": "6b023ed0",
   "metadata": {},
   "source": [
    "### **2. Importing libraries**"
   ]
  },
  {
   "cell_type": "code",
   "execution_count": null,
   "id": "310d1b52",
   "metadata": {},
   "outputs": [],
   "source": [
    "# Import required libraries\n",
    "import pandas as pd\n",
    "import io\n",
    "from getpass import getpass\n",
    "from dbrepo.RestClient import RestClient"
   ]
  },
  {
   "cell_type": "markdown",
   "id": "e6eae22c",
   "metadata": {},
   "source": [
    "### **3. Using Credentials for Data Access with API's**"
   ]
  },
  {
   "cell_type": "code",
   "execution_count": 4,
   "id": "effec152",
   "metadata": {},
   "outputs": [],
   "source": [
    "username = 'Sufiyan' \n",
    "password = getpass(\"Enter your TU Wien password: \")  # Securely prompt for password"
   ]
  },
  {
   "cell_type": "markdown",
   "id": "bd962fc2",
   "metadata": {},
   "source": [
    "### **4. Initializing the DBRepo Client**"
   ]
  },
  {
   "cell_type": "code",
   "execution_count": 5,
   "id": "5e0f5dab",
   "metadata": {},
   "outputs": [
    {
     "name": "stdout",
     "output_type": "stream",
     "text": [
      "[UserBrief(id='2955d238-a9b5-103f-8cb9-a35058fbb25a', username='urdeaa', name='Ana-Maria Urdea', orcid='https://orcid.org/0009-0004-0888-9833', qualified_name='Ana-Maria Urdea — @urdeaa', given_name='Ana-Maria', family_name='Urdea'), UserBrief(id='327787b6-abe6-103f-8cbd-a35058fbb25a', username='khasrur', name='khasrur Rahman', orcid=None, qualified_name='khasrur Rahman — @khasrur', given_name='khasrur', family_name='Rahman'), UserBrief(id='49cf63a0-aa3a-103f-8cba-a35058fbb25a', username='igehak', name='Valentin Futterer', orcid='https://orcid.org/0009-0002-5874-5075', qualified_name='Valentin Futterer — @igehak', given_name='Valentin', family_name='Futterer'), UserBrief(id='770c0174-aa8b-103f-8cbb-a35058fbb25a', username='sufiyan', name='Sufiyan Ahmed', orcid=None, qualified_name='Sufiyan Ahmed — @sufiyan', given_name='Sufiyan', family_name='Ahmed'), UserBrief(id='7e77d6a8-a7d5-103f-8cb5-a35058fbb25a', username='mweise', name='Martin Weise', orcid=None, qualified_name='Martin Weise — @mweise', given_name='Martin', family_name='Weise'), UserBrief(id='9fc2b3fe-abf5-103f-8cbe-a35058fbb25a', username='_raphinerie_', name='Raphael-Hafis Kretschmer', orcid=None, qualified_name='Raphael-Hafis Kretschmer — @_raphinerie_', given_name='Raphael-Hafis', family_name='Kretschmer'), UserBrief(id='bbd1c266-a7f3-103f-8cb7-a35058fbb25a', username='mohsinkhalid', name='Mohsin Khalid', orcid=None, qualified_name='Mohsin Khalid — @mohsinkhalid', given_name='Mohsin', family_name='Khalid'), UserBrief(id='ca2ffb6a-a83f-103f-8cb8-a35058fbb25a', username='12347489', name='Nicolas Bernal', orcid=None, qualified_name='Nicolas Bernal — @12347489', given_name='Nicolas', family_name='Bernal'), UserBrief(id='da4b1a7c-ac07-103f-8cbf-a35058fbb25a', username='12450787', name='Dilara Cakmak', orcid=None, qualified_name='Dilara Cakmak — @12450787', given_name='Dilara', family_name='Cakmak'), UserBrief(id='ff66af2c-ab23-103f-8cbc-a35058fbb25a', username='joachim.boltz', name='Joachim Boltz', orcid=None, qualified_name='Joachim Boltz — @joachim.boltz', given_name='Joachim', family_name='Boltz')]\n"
     ]
    }
   ],
   "source": [
    "# Initialize client\n",
    "client = RestClient('https://test.dbrepo.tuwien.ac.at', \n",
    "                      username=username, \n",
    "                      password=password)\n",
    "\n",
    "print(client.get_users())   # List all users just to check if the connection is successful\n"
   ]
  },
  {
   "cell_type": "markdown",
   "id": "7b7e0289",
   "metadata": {},
   "source": [
    "### **5. Initializing the PID's and Loading Data**"
   ]
  },
  {
   "cell_type": "code",
   "execution_count": 6,
   "id": "206d73b0",
   "metadata": {},
   "outputs": [],
   "source": [
    "train_pid = '43758c76-17f2-4529-bb38-c0ad6ae47f30'  # training dataset PID\n",
    "val_pid = '19a1a84d-7519-4e8e-be55-971419ac21de'  # validation dataset PID\n",
    "test_pid = '734f2cda-517b-4968-82ca-b6c0a98e79d6'  # test dataset PID"
   ]
  },
  {
   "cell_type": "code",
   "execution_count": 7,
   "id": "9d3db147",
   "metadata": {},
   "outputs": [
    {
     "name": "stdout",
     "output_type": "stream",
     "text": [
      "Loading training data...\n",
      "Training data loaded successfully with 600 rows and 9 columns\n"
     ]
    }
   ],
   "source": [
    "# Load data using PIDs\n",
    "print(\"Loading training data...\")\n",
    "train_df = client.get_identifier_data(train_pid)  # already a DataFrame\n",
    "print(f\"Training data loaded successfully with {train_df.shape[0]} rows and {train_df.shape[1]} columns\")"
   ]
  },
  {
   "cell_type": "code",
   "execution_count": 8,
   "id": "78dff94a",
   "metadata": {},
   "outputs": [
    {
     "name": "stdout",
     "output_type": "stream",
     "text": [
      "\n",
      "Preview of training data:\n"
     ]
    },
    {
     "data": {
      "text/html": [
       "<div>\n",
       "<style scoped>\n",
       "    .dataframe tbody tr th:only-of-type {\n",
       "        vertical-align: middle;\n",
       "    }\n",
       "\n",
       "    .dataframe tbody tr th {\n",
       "        vertical-align: top;\n",
       "    }\n",
       "\n",
       "    .dataframe thead th {\n",
       "        text-align: right;\n",
       "    }\n",
       "</style>\n",
       "<table border=\"1\" class=\"dataframe\">\n",
       "  <thead>\n",
       "    <tr style=\"text-align: right;\">\n",
       "      <th></th>\n",
       "      <th>patient_id</th>\n",
       "      <th>age</th>\n",
       "      <th>blood_pressure</th>\n",
       "      <th>cholesterol</th>\n",
       "      <th>bmi</th>\n",
       "      <th>glucose</th>\n",
       "      <th>smoker</th>\n",
       "      <th>exercise_hours</th>\n",
       "      <th>disease_risk</th>\n",
       "    </tr>\n",
       "  </thead>\n",
       "  <tbody>\n",
       "    <tr>\n",
       "      <th>0</th>\n",
       "      <td>1</td>\n",
       "      <td>56</td>\n",
       "      <td>140</td>\n",
       "      <td>197</td>\n",
       "      <td>28.500000000000000000</td>\n",
       "      <td>87</td>\n",
       "      <td>true</td>\n",
       "      <td>3.600000000000000000</td>\n",
       "      <td>false</td>\n",
       "    </tr>\n",
       "    <tr>\n",
       "      <th>1</th>\n",
       "      <td>2</td>\n",
       "      <td>69</td>\n",
       "      <td>109</td>\n",
       "      <td>204</td>\n",
       "      <td>25.300000000000000000</td>\n",
       "      <td>83</td>\n",
       "      <td>false</td>\n",
       "      <td>2.900000000000000000</td>\n",
       "      <td>true</td>\n",
       "    </tr>\n",
       "    <tr>\n",
       "      <th>2</th>\n",
       "      <td>3</td>\n",
       "      <td>46</td>\n",
       "      <td>137</td>\n",
       "      <td>217</td>\n",
       "      <td>28.600000000000000000</td>\n",
       "      <td>84</td>\n",
       "      <td>true</td>\n",
       "      <td>2.000000000000000000</td>\n",
       "      <td>true</td>\n",
       "    </tr>\n",
       "    <tr>\n",
       "      <th>3</th>\n",
       "      <td>4</td>\n",
       "      <td>32</td>\n",
       "      <td>114</td>\n",
       "      <td>215</td>\n",
       "      <td>20.500000000000000000</td>\n",
       "      <td>100</td>\n",
       "      <td>true</td>\n",
       "      <td>1.500000000000000000</td>\n",
       "      <td>true</td>\n",
       "    </tr>\n",
       "    <tr>\n",
       "      <th>4</th>\n",
       "      <td>5</td>\n",
       "      <td>60</td>\n",
       "      <td>109</td>\n",
       "      <td>127</td>\n",
       "      <td>32.100000000000000000</td>\n",
       "      <td>70</td>\n",
       "      <td>false</td>\n",
       "      <td>7.200000000000000000</td>\n",
       "      <td>true</td>\n",
       "    </tr>\n",
       "  </tbody>\n",
       "</table>\n",
       "</div>"
      ],
      "text/plain": [
       "  patient_id age blood_pressure cholesterol                    bmi glucose  \\\n",
       "0          1  56            140         197  28.500000000000000000      87   \n",
       "1          2  69            109         204  25.300000000000000000      83   \n",
       "2          3  46            137         217  28.600000000000000000      84   \n",
       "3          4  32            114         215  20.500000000000000000     100   \n",
       "4          5  60            109         127  32.100000000000000000      70   \n",
       "\n",
       "  smoker        exercise_hours disease_risk  \n",
       "0   true  3.600000000000000000        false  \n",
       "1  false  2.900000000000000000         true  \n",
       "2   true  2.000000000000000000         true  \n",
       "3   true  1.500000000000000000         true  \n",
       "4  false  7.200000000000000000         true  "
      ]
     },
     "execution_count": 8,
     "metadata": {},
     "output_type": "execute_result"
    }
   ],
   "source": [
    "# Display first few rows of the training data just for testing purposes\n",
    "print(\"\\nPreview of training data:\")\n",
    "train_df.head()"
   ]
  },
  {
   "cell_type": "code",
   "execution_count": 9,
   "id": "a44f7a88",
   "metadata": {},
   "outputs": [
    {
     "name": "stdout",
     "output_type": "stream",
     "text": [
      "Loading validation data...\n",
      "Validation data loaded successfully with 200 rows and 9 columns\n",
      "Loading test data...\n",
      "Test data loaded successfully with 200 rows and 9 columns\n"
     ]
    }
   ],
   "source": [
    "# validation data\n",
    "print(\"Loading validation data...\")\n",
    "val_data = client.get_identifier_data(val_pid)\n",
    "print(f\"Validation data loaded successfully with {val_data.shape[0]} rows and {val_data.shape[1]} columns\")\n",
    "\n",
    "# test data\n",
    "print(\"Loading test data...\")\n",
    "test_data = client.get_identifier_data(test_pid)\n",
    "print(f\"Test data loaded successfully with {test_data.shape[0]} rows and {test_data.shape[1]} columns\")\n"
   ]
  },
  {
   "cell_type": "code",
   "execution_count": 11,
   "id": "ab14dc38",
   "metadata": {},
   "outputs": [
    {
     "name": "stdout",
     "output_type": "stream",
     "text": [
      "\n",
      "Data summary statistics:\n"
     ]
    },
    {
     "data": {
      "text/html": [
       "<div>\n",
       "<style scoped>\n",
       "    .dataframe tbody tr th:only-of-type {\n",
       "        vertical-align: middle;\n",
       "    }\n",
       "\n",
       "    .dataframe tbody tr th {\n",
       "        vertical-align: top;\n",
       "    }\n",
       "\n",
       "    .dataframe thead th {\n",
       "        text-align: right;\n",
       "    }\n",
       "</style>\n",
       "<table border=\"1\" class=\"dataframe\">\n",
       "  <thead>\n",
       "    <tr style=\"text-align: right;\">\n",
       "      <th></th>\n",
       "      <th>patient_id</th>\n",
       "      <th>age</th>\n",
       "      <th>blood_pressure</th>\n",
       "      <th>cholesterol</th>\n",
       "      <th>bmi</th>\n",
       "      <th>glucose</th>\n",
       "      <th>smoker</th>\n",
       "      <th>exercise_hours</th>\n",
       "      <th>disease_risk</th>\n",
       "    </tr>\n",
       "  </thead>\n",
       "  <tbody>\n",
       "    <tr>\n",
       "      <th>count</th>\n",
       "      <td>600</td>\n",
       "      <td>600</td>\n",
       "      <td>600</td>\n",
       "      <td>600</td>\n",
       "      <td>600</td>\n",
       "      <td>600</td>\n",
       "      <td>600</td>\n",
       "      <td>600</td>\n",
       "      <td>600</td>\n",
       "    </tr>\n",
       "    <tr>\n",
       "      <th>unique</th>\n",
       "      <td>600</td>\n",
       "      <td>62</td>\n",
       "      <td>78</td>\n",
       "      <td>138</td>\n",
       "      <td>187</td>\n",
       "      <td>80</td>\n",
       "      <td>2</td>\n",
       "      <td>101</td>\n",
       "      <td>2</td>\n",
       "    </tr>\n",
       "    <tr>\n",
       "      <th>top</th>\n",
       "      <td>1</td>\n",
       "      <td>77</td>\n",
       "      <td>110</td>\n",
       "      <td>184</td>\n",
       "      <td>15.000000000000000000</td>\n",
       "      <td>70</td>\n",
       "      <td>false</td>\n",
       "      <td>0.200000000000000000</td>\n",
       "      <td>false</td>\n",
       "    </tr>\n",
       "    <tr>\n",
       "      <th>freq</th>\n",
       "      <td>1</td>\n",
       "      <td>20</td>\n",
       "      <td>22</td>\n",
       "      <td>13</td>\n",
       "      <td>18</td>\n",
       "      <td>37</td>\n",
       "      <td>427</td>\n",
       "      <td>25</td>\n",
       "      <td>407</td>\n",
       "    </tr>\n",
       "  </tbody>\n",
       "</table>\n",
       "</div>"
      ],
      "text/plain": [
       "       patient_id  age blood_pressure cholesterol                    bmi  \\\n",
       "count         600  600            600         600                    600   \n",
       "unique        600   62             78         138                    187   \n",
       "top             1   77            110         184  15.000000000000000000   \n",
       "freq            1   20             22          13                     18   \n",
       "\n",
       "       glucose smoker        exercise_hours disease_risk  \n",
       "count      600    600                   600          600  \n",
       "unique      80      2                   101            2  \n",
       "top         70  false  0.200000000000000000        false  \n",
       "freq        37    427                    25          407  "
      ]
     },
     "execution_count": 11,
     "metadata": {},
     "output_type": "execute_result"
    }
   ],
   "source": [
    "# Exploratory Data Analysis\n",
    "print(\"\\nData summary statistics:\")\n",
    "train_df.describe()"
   ]
  },
  {
   "cell_type": "markdown",
   "id": "50cad11a",
   "metadata": {},
   "source": [
    "### 5.1 Checking if there's any Missing Values"
   ]
  },
  {
   "cell_type": "code",
   "execution_count": 12,
   "id": "8045c743",
   "metadata": {
    "lines_to_next_cell": 1
   },
   "outputs": [
    {
     "name": "stdout",
     "output_type": "stream",
     "text": [
      "\n",
      "Missing values per column:\n"
     ]
    },
    {
     "data": {
      "text/plain": [
       "patient_id        0\n",
       "age               0\n",
       "blood_pressure    0\n",
       "cholesterol       0\n",
       "bmi               0\n",
       "glucose           0\n",
       "smoker            0\n",
       "exercise_hours    0\n",
       "disease_risk      0\n",
       "dtype: int64"
      ]
     },
     "execution_count": 12,
     "metadata": {},
     "output_type": "execute_result"
    }
   ],
   "source": [
    "# Check for missing values\n",
    "print(\"\\nMissing values per column:\")\n",
    "train_df.isnull().sum()"
   ]
  },
  {
   "cell_type": "markdown",
   "id": "4d1d97a2",
   "metadata": {},
   "source": [
    "## **6. Model Training and Saving**"
   ]
  },
  {
   "cell_type": "markdown",
   "id": "d44f1fb3",
   "metadata": {},
   "source": [
    "#### 6.1 Data Loading and Preprocessing"
   ]
  },
  {
   "cell_type": "code",
   "execution_count": 39,
   "id": "3c15c182",
   "metadata": {},
   "outputs": [
    {
     "name": "stdout",
     "output_type": "stream",
     "text": [
      "  patient_id age blood_pressure cholesterol                    bmi glucose  \\\n",
      "0          1  56            140         197  28.500000000000000000      87   \n",
      "1          2  69            109         204  25.300000000000000000      83   \n",
      "2          3  46            137         217  28.600000000000000000      84   \n",
      "3          4  32            114         215  20.500000000000000000     100   \n",
      "4          5  60            109         127  32.100000000000000000      70   \n",
      "\n",
      "   smoker        exercise_hours  disease_risk  \n",
      "0       1  3.600000000000000000             0  \n",
      "1       0  2.900000000000000000             1  \n",
      "2       1  2.000000000000000000             1  \n",
      "3       1  1.500000000000000000             1  \n",
      "4       0  7.200000000000000000             1  \n",
      "  patient_id age blood_pressure cholesterol                    bmi glucose  \\\n",
      "0        601  79            123         178  22.800000000000000000      70   \n",
      "1        602  40            133         217  30.200000000000000000      70   \n",
      "2        603  26            142         220  25.700000000000000000     114   \n",
      "3        604  29            142         212  29.200000000000000000     115   \n",
      "4        605  70            125         239  23.500000000000000000     123   \n",
      "\n",
      "   smoker        exercise_hours  disease_risk  \n",
      "0       0  4.200000000000000000             0  \n",
      "1       1  4.300000000000000000             0  \n",
      "2       0  5.000000000000000000             0  \n",
      "3       0  6.500000000000000000             0  \n",
      "4       0  0.900000000000000000             1  \n",
      "  patient_id age blood_pressure cholesterol                    bmi glucose  \\\n",
      "0        801  29            111         226  30.800000000000000000      83   \n",
      "1        802  42            106         136  18.700000000000000000     126   \n",
      "2        803  69            111         185  18.700000000000000000     136   \n",
      "3        804  76            127         214  28.800000000000000000      95   \n",
      "4        805  38            117         241  19.200000000000000000      70   \n",
      "\n",
      "   smoker        exercise_hours  disease_risk  \n",
      "0       1  0.600000000000000000             1  \n",
      "1       0  2.700000000000000000             1  \n",
      "2       0  2.500000000000000000             0  \n",
      "3       0  4.000000000000000000             0  \n",
      "4       0  5.000000000000000000             0  \n"
     ]
    }
   ],
   "source": [
    "import pandas as pd\n",
    "\n",
    "# Load data (ensure you load it correctly)\n",
    "train_df = pd.DataFrame(client.get_identifier_data(train_pid))\n",
    "val_df = pd.DataFrame(client.get_identifier_data(val_pid))\n",
    "test_df = pd.DataFrame(client.get_identifier_data(test_pid))\n",
    "\n",
    "# Convert 'true'/'false' to 1/0 for smoker and disease_risk\n",
    "train_df['smoker'] = train_df['smoker'].map({'true': 1, 'false': 0})\n",
    "val_df['smoker'] = val_df['smoker'].map({'true': 1, 'false': 0})\n",
    "test_df['smoker'] = test_df['smoker'].map({'true': 1, 'false': 0})\n",
    "\n",
    "train_df['disease_risk'] = train_df['disease_risk'].map({'true': 1, 'false': 0})\n",
    "val_df['disease_risk'] = val_df['disease_risk'].map({'true': 1, 'false': 0})\n",
    "test_df['disease_risk'] = test_df['disease_risk'].map({'true': 1, 'false': 0})\n",
    "\n",
    "# Check data after transformation\n",
    "print(train_df.head())\n",
    "print(val_df.head())\n",
    "print(test_df.head())\n"
   ]
  },
  {
   "cell_type": "markdown",
   "id": "d85beee8",
   "metadata": {},
   "source": [
    "#### 6.2 Handling Missing Values and Feature Selection"
   ]
  },
  {
   "cell_type": "code",
   "execution_count": 42,
   "id": "cf7698d4",
   "metadata": {},
   "outputs": [
    {
     "name": "stdout",
     "output_type": "stream",
     "text": [
      "age               0\n",
      "blood_pressure    0\n",
      "cholesterol       0\n",
      "bmi               0\n",
      "glucose           0\n",
      "smoker            0\n",
      "exercise_hours    0\n",
      "dtype: int64\n",
      "age               0\n",
      "blood_pressure    0\n",
      "cholesterol       0\n",
      "bmi               0\n",
      "glucose           0\n",
      "smoker            0\n",
      "exercise_hours    0\n",
      "dtype: int64\n",
      "age               0\n",
      "blood_pressure    0\n",
      "cholesterol       0\n",
      "bmi               0\n",
      "glucose           0\n",
      "smoker            0\n",
      "exercise_hours    0\n",
      "dtype: int64\n"
     ]
    }
   ],
   "source": [
    "from sklearn.impute import SimpleImputer\n",
    "\n",
    "# Prepare X and y for training and testing\n",
    "feature_cols = ['age', 'blood_pressure', 'cholesterol', 'bmi', 'glucose', 'smoker', 'exercise_hours']\n",
    "target_col = 'disease_risk'\n",
    "\n",
    "# Make a copy to ensure no views are being modified\n",
    "X_train = train_df[feature_cols].copy()\n",
    "y_train = train_df[target_col].copy()\n",
    "\n",
    "X_val = val_df[feature_cols].copy()\n",
    "y_val = val_df[target_col].copy()\n",
    "\n",
    "X_test = test_df[feature_cols].copy()\n",
    "y_test = test_df[target_col].copy()\n",
    "\n",
    "# Impute missing values for numerical features\n",
    "numerical_features = ['age', 'blood_pressure', 'cholesterol', 'bmi', 'glucose', 'exercise_hours']\n",
    "imputer = SimpleImputer(strategy='mean')\n",
    "\n",
    "# Use .loc[] to modify values\n",
    "X_train[numerical_features] = imputer.fit_transform(X_train[numerical_features])\n",
    "X_val[numerical_features] = imputer.transform(X_val[numerical_features])\n",
    "X_test[numerical_features] = imputer.transform(X_test[numerical_features])\n",
    "\n",
    "# Impute missing values for categorical features\n",
    "categorical_features = ['smoker']\n",
    "imputer = SimpleImputer(strategy='most_frequent')\n",
    "\n",
    "# Use .loc[] to modify values\n",
    "X_train[categorical_features] = imputer.fit_transform(X_train[categorical_features])\n",
    "X_val[categorical_features] = imputer.transform(X_val[categorical_features])\n",
    "X_test[categorical_features] = imputer.transform(X_test[categorical_features])\n",
    "\n",
    "# Check if there are any missing values left\n",
    "print(X_train.isnull().sum())\n",
    "print(X_val.isnull().sum())\n",
    "print(X_test.isnull().sum())\n"
   ]
  },
  {
   "cell_type": "markdown",
   "id": "9a7b4be2",
   "metadata": {},
   "source": [
    "#### 6.3 Model Training, Evaluation, and Saving"
   ]
  },
  {
   "cell_type": "code",
   "execution_count": 44,
   "id": "bf754e52",
   "metadata": {},
   "outputs": [
    {
     "data": {
      "image/png": "[encoded data removed]",
      "text/plain": [
       "<Figure size 600x400 with 2 Axes>"
      ]
     },
     "metadata": {},
     "output_type": "display_data"
    },
    {
     "data": {
      "image/png": "[encoded data removed]",
      "text/plain": [
       "<Figure size 800x500 with 1 Axes>"
      ]
     },
     "metadata": {},
     "output_type": "display_data"
    }
   ],
   "source": [
    "from sklearn.ensemble import RandomForestClassifier\n",
    "from sklearn.metrics import classification_report, confusion_matrix\n",
    "import joblib\n",
    "import json\n",
    "import matplotlib.pyplot as plt\n",
    "import seaborn as sns\n",
    "\n",
    "# Train the Random Forest model\n",
    "clf = RandomForestClassifier(n_estimators=100, random_state=42)\n",
    "clf.fit(X_train, y_train)\n",
    "\n",
    "# Save the model\n",
    "joblib.dump(clf, \"patient_health_model.pkl\")\n",
    "\n",
    "# Predict on the test set\n",
    "y_pred = clf.predict(X_test)\n",
    "\n",
    "# Save evaluation metrics\n",
    "report = classification_report(y_test, y_pred, output_dict=True)\n",
    "with open(\"evaluation_metrics.json\", \"w\") as f:\n",
    "    json.dump(report, f, indent=4)\n",
    "\n",
    "# Confusion matrix\n",
    "cm = confusion_matrix(y_test, y_pred)\n",
    "plt.figure(figsize=(6, 4))\n",
    "sns.heatmap(cm, annot=True, fmt=\"d\", cmap=\"Blues\")\n",
    "plt.title(\"Confusion Matrix\")\n",
    "plt.xlabel(\"Predicted\")\n",
    "plt.ylabel(\"Actual\")\n",
    "plt.tight_layout()\n",
    "plt.savefig(\"confusion_matrix.png\")\n",
    "\n",
    "# Feature importance\n",
    "importances = clf.feature_importances_\n",
    "feat_imp_df = pd.DataFrame({'Feature': feature_cols, 'Importance': importances})\n",
    "feat_imp_df = feat_imp_df.sort_values(by=\"Importance\", ascending=False)\n",
    "\n",
    "plt.figure(figsize=(8, 5))\n",
    "sns.barplot(data=feat_imp_df, x=\"Importance\", y=\"Feature\")\n",
    "plt.title(\"Feature Importance\")\n",
    "plt.tight_layout()\n",
    "plt.savefig(\"feature_importance_chart.png\")\n",
    "\n",
    "# Save predictions to recommendations.csv\n",
    "pred_df = test_df.copy()\n",
    "pred_df[\"predicted_disease_risk\"] = y_pred\n",
    "pred_df.to_csv(\"recommendations.csv\", index=False)\n"
   ]
  },
  {
   "cell_type": "markdown",
   "id": "1d4bb3b3",
   "metadata": {},
   "source": [
    "Save model to TUWRD (placeholder)\n",
    "save_to_tuwrd(model, model_metadata, \"trained_model\")"
   ]
  },
  {
   "cell_type": "code",
   "execution_count": null,
   "id": "14c48364",
   "metadata": {},
   "outputs": [],
   "source": [
    "print(\"\\nData access and model training workflow complete!\")\n",
    "print(\"This notebook demonstrates FAIR principles by:\")\n",
    "print(\"1. Using persistent identifiers (PIDs) to access data\")\n",
    "print(\"2. Including comprehensive metadata with outputs\")\n",
    "print(\"3. Ensuring reproducibility of the experiment\")\n",
    "print(\"4. Following proper data citation practices\")"
   ]
  }
 ],
 "metadata": {
  "jupytext": {
   "cell_metadata_filter": "-all",
   "main_language": "python",
   "notebook_metadata_filter": "-all"
  },
  "kernelspec": {
   "display_name": "Python 3",
   "language": "python",
   "name": "python3"
  },
  "language_info": {
   "codemirror_mode": {
    "name": "ipython",
    "version": 3
   },
   "file_extension": ".py",
   "mimetype": "text/x-python",
   "name": "python",
   "nbconvert_exporter": "python",
   "pygments_lexer": "ipython3",
   "version": "3.11.4"
  }
 },
 "nbformat": 4,
 "nbformat_minor": 5
}
